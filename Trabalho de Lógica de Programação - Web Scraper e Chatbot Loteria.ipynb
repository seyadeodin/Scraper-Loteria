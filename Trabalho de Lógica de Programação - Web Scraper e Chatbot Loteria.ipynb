{
 "cells": [
  {
   "cell_type": "markdown",
   "metadata": {},
   "source": [
    "# Trabalho de Lógica de Programação - Web Scraper e Bot Loterias"
   ]
  },
  {
   "attachments": {},
   "cell_type": "markdown",
   "metadata": {},
   "source": [
    "<img src=\"https://miro.medium.com/max/1560/1*-ZQxCcXWY0nhQms2vZYDKQ.jpeg\" alt=\"some text\" width=403 height=403>"
   ]
  },
  {
   "cell_type": "markdown",
   "metadata": {},
   "source": [
    "# Recursos Usadas\n",
    "\n",
    "**Python 3.8**\n",
    "\n",
    "Biblioteca Pandas\n",
    "\n",
    "Biblioteca BeautifulSoup\n",
    "\n",
    "Biblioteca urllib.request\n",
    "\n",
    "**Clustaar WebBot**\n"
   ]
  },
  {
   "cell_type": "markdown",
   "metadata": {},
   "source": [
    "\n",
    "# Objetivo\n",
    "\n",
    "Criar uma maneira simples e prática para que pessoas que não sabem usar todas as funcionalidades de seu smartphone possam acessar o resultado das loterias facilmente."
   ]
  },
  {
   "cell_type": "markdown",
   "metadata": {},
   "source": [
    "# Código "
   ]
  },
  {
   "cell_type": "code",
   "execution_count": 14,
   "metadata": {
    "scrolled": true
   },
   "outputs": [
    {
     "name": "stdout",
     "output_type": "stream",
     "text": [
      "Mega-Sena\n",
      "4 10 18 30 34 47 \n",
      "Loto-Fácil\n",
      "1 5 6 7 8 10 11 12 13 16 17 18 19 22 25 \n",
      "Quina\n",
      "14 19 31 66 71 \n",
      "Time-Mania\n",
      "4 9 20 21 40 43 79 \n",
      "Dia da Sorte:\n",
      "13 17 18 19 22 27 29 \n",
      "Loto-Mania\n",
      "0 12 15 21 24 27 29 30 33 35 46 49 57 68 71 77 80 86 89 99 "
     ]
    }
   ],
   "source": [
    "from urllib.request import urlopen as uReq\n",
    "from bs4 import BeautifulSoup as soup\n",
    "\n",
    "my_url = 'https://especiais.gazetadopovo.com.br/loterias/'\n",
    "\n",
    "# cria uma conexão, salva a página\n",
    "uClient = uReq(my_url)\n",
    "page_html = uClient.read()\n",
    "uClient.close()\n",
    "\n",
    "# pareia código html\n",
    "page_soup = soup(page_html, \"html.parser\")\n",
    "\n",
    "\n",
    "containers = page_soup.findAll(\"div\", {\"class\": \"lista-concursos\"})\n",
    "\n",
    "# numbers = container.findAll(\"ul\", {\"class\":\"reset numbers_concurso\"})\n",
    "\n",
    "# cria arquivo csv contendo todos os dados\n",
    "filename = \"results.csv\"\n",
    "f = open(filename, \"w\")\n",
    "\n",
    "headers = \"mega, lotof, quina, time, dia, lotom\\n\"\n",
    "\n",
    "f.write(headers)\n",
    "\n",
    "for container in containers:\n",
    "    print(\"Mega-Sena\")\n",
    "    for mega_container in container.findAll(\"li\", {\"class\": \"bg-mega-sena\"}):\n",
    "        mega = (mega_container.text)\n",
    "        f.write(mega + \" \")\n",
    "        print(mega, end=' ')\n",
    "    f.write(\",\")\n",
    "\n",
    "    print(\"\\nLoto-Fácil\")\n",
    "    for lotof_container in container.findAll(\"li\", {\"class\": \"bg-lotofacil\"}):\n",
    "        lotof = (lotof_container.text)\n",
    "        f.write(lotof + \" \")\n",
    "        print(lotof, end=' ')\n",
    "    f.write(\",\")\n",
    "\n",
    "    print(\"\\nQuina\")\n",
    "    for quina_container in container.findAll(\"li\", {\"class\": \"bg-quina\"}):\n",
    "        quina = (quina_container.text)\n",
    "        f.write(quina + \" \")\n",
    "        print(quina, end=' ')\n",
    "    f.write(\",\")\n",
    "\n",
    "    print(\"\\nTime-Mania\")\n",
    "    for time_container in container.findAll(\"li\", {\"class\": \"bg-timemania\"}):\n",
    "        time = (time_container.text)\n",
    "        f.write(time + \" \")\n",
    "        print(time, end=' ')\n",
    "    f.write(\",\")\n",
    "\n",
    "    print(\"\\nDia da Sorte:\")\n",
    "    for dia_container in container.findAll(\"li\", {\"class\": \"bg-diasorte\"}):\n",
    "        dia = (dia_container.text)\n",
    "        f.write(dia + \" \")\n",
    "        print(dia, end=' ')\n",
    "    f.write(\",\")\n",
    "\n",
    "    print(\"\\nLoto-Mania\")\n",
    "    for lotom_container in container.findAll(\"li\", {\"class\": \"bg-lotomania\"}):\n",
    "        lotom = (lotom_container.text)\n",
    "        f.write(lotom + \" \")\n",
    "        print(lotom, end=' ')\n",
    "    f.write(\",\")\n",
    "    #f.write(mega + \",\" + lotof + \",\" + quina + \",\" + time + \",\" + dia + \",\" + lotom + \"\\n\")\n",
    "\n",
    "    f.close()\n"
   ]
  },
  {
   "cell_type": "markdown",
   "metadata": {},
   "source": [
    "<script>\n",
    "    window.clustaarSettings = {\n",
    "      bot_id: '5dedecad572dff020ef52ba5',\n",
    "      bot_token: 'eyJ2YWx1ZSI6IlhTRUNYSm5rWnpueVY5TmI4YmFRTEFmbkpjcFBJT2pYNm93Y2IxSFhDSjAiLCJzdWJqZWN0Ijp7InR5cGUiOiJib3QiLCJpZCI6IjVkZWRlY2FkNTcyZGZmMDIwZWY1MmJhNSJ9fQ==',\n",
    "    };\n",
    "    var callWebchat=function(){var w=window;var ic=w.Clustaar;if(typeof ic==='function')\n",
    "    {ic('reattach_activator');ic('update',clustaarSettings)}\n",
    "    else{var d=document;var i=function()\n",
    "    {i.c(arguments)};i.q=[];i.c=function(args)\n",
    "    {i.q.push(args)};w.Clustaar=i;var l=function()\n",
    "    {var s=d.createElement('script');s.type='text/javascript';s.async=!0;s.src='https://webchat.clustaar.io/assets/scripts/webchat.js';var x=d.getElementsByTagName('script')[0];x.parentNode.insertBefore(s,x)}\n",
    "      l();\n",
    "    }};callWebchat()\n",
    "</script>"
   ]
  },
  {
   "cell_type": "markdown",
   "metadata": {},
   "source": [
    "<script>\n",
    "    window.clustaarSettings = {\n",
    "      bot_id: '5dedecad572dff020ef52ba5',\n",
    "      bot_token: 'eyJ2YWx1ZSI6IlhTRUNYSm5rWnpueVY5TmI4YmFRTEFmbkpjcFBJT2pYNm93Y2IxSFhDSjAiLCJzdWJqZWN0Ijp7InR5cGUiOiJib3QiLCJpZCI6IjVkZWRlY2FkNTcyZGZmMDIwZWY1MmJhNSJ9fQ==',\n",
    "    };\n",
    "    var callWebchat=function(){var w=window;var ic=w.Clustaar;if(typeof ic==='function')\n",
    "    {ic('reattach_activator');ic('update',clustaarSettings)}\n",
    "    else{var d=document;var i=function()\n",
    "    {i.c(arguments)};i.q=[];i.c=function(args)\n",
    "    {i.q.push(args)};w.Clustaar=i;var l=function()\n",
    "    {var s=d.createElement('script');s.type='text/javascript';s.async=!0;s.src='https://webchat.clustaar.io/assets/scripts/webchat.js';var x=d.getElementsByTagName('script')[0];x.parentNode.insertBefore(s,x)}\n",
    "      l();\n",
    "    }};callWebchat()\n",
    "</script>"
   ]
  },
  {
   "cell_type": "markdown",
   "metadata": {},
   "source": [
    "# Clustar\n",
    "https://app.clustaar.com/#/chatbot/5dedecad572dff020ef52ba5/dashboard/general"
   ]
  }
 ],
 "metadata": {
  "kernelspec": {
   "display_name": "Python 3",
   "language": "python",
   "name": "python3"
  },
  "language_info": {
   "codemirror_mode": {
    "name": "ipython",
    "version": 3
   },
   "file_extension": ".py",
   "mimetype": "text/x-python",
   "name": "python",
   "nbconvert_exporter": "python",
   "pygments_lexer": "ipython3",
   "version": "3.7.4"
  }
 },
 "nbformat": 4,
 "nbformat_minor": 2
}
